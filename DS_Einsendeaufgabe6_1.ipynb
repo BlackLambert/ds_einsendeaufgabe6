{
 "cells": [
  {
   "cell_type": "markdown",
   "metadata": {},
   "source": [
    "# Data Science - Einsendeaufgabe 6 - Data Cleaning 1\n",
    "\n",
    "Das Dataset https://github.com/edlich/eternalrepo/blob/master/DS-WAHLFACH/dsm-beuth-edl-demodata-dirty.csv soll bereinigt werden."
   ]
  },
  {
   "cell_type": "code",
   "execution_count": 397,
   "metadata": {},
   "outputs": [
    {
     "name": "stdout",
     "output_type": "stream",
     "text": [
      "Rows count: 23\n",
      "Columns count: 7\n",
      "     ID              Full Name  First Name    Last Name  \\\n",
      "0     1        Mariel Finnigan      Mariel     Finnigan   \n",
      "1     2          Kenyon Possek      Kenyon       Possek   \n",
      "2     3         Lalo Manifould        Lalo    Manifould   \n",
      "3     4         Nickola Carous     Nickola       Carous   \n",
      "4     5          Norman Dubbin      Norman       Dubbin   \n",
      "5     6           Hasty Perdue       Hasty       Perdue   \n",
      "6     7         Franz Castello       Franz     Castello   \n",
      "7     8           Jorge Tarney       Jorge       Tarney   \n",
      "8     9     Eunice Blakebrough      Eunice  Blakebrough   \n",
      "9    10  Kristopher Frankcombe  Kristopher   Frankcombe   \n",
      "10   11           Palm Domotor        Palm      Domotor   \n",
      "11   12          Luz Lansdowne         Luz    Lansdowne   \n",
      "12   13         Modestia Keble    Modestia        Keble   \n",
      "13   14           Stacee Bovis      Stacee        Bovis   \n",
      "14   15              Eden Wace        Eden         Wace   \n",
      "15   16              Eden Wace        Eden         Wace   \n",
      "16   17        Tobias Sherburn      Tobias     Sherburn   \n",
      "17  NaN                    NaN         NaN          NaN   \n",
      "18   19         Clair Skillern       Clair     Skillern   \n",
      "19   20        Mathew Addicott      Mathew     Addicott   \n",
      "20   21       Kerianne Goacher    Kerianne      Goacher   \n",
      "21  NaN          Maurits Shawl     Maurits        Shawl   \n",
      "22  NaN                    NaN         NaN          NaN   \n",
      "\n",
      "                            E-Mail  Gender  Age  \n",
      "0              mfinnigan0@usda.gov  Female   60  \n",
      "1                kpossek1@ucoz.com    Male   12  \n",
      "2              lmanifould2@pbs.org    Male   26  \n",
      "3                ncarous3@phoca.cz    Male    4  \n",
      "4           ndubbin4@wikipedia.org    Male   17  \n",
      "5                  hperdue5@qq.com     NaN   77  \n",
      "6              fcastello6@1688.com    Male   25  \n",
      "7                  jtarney7@ft.com    Male   77  \n",
      "8           eblakebrough8@sohu.com  Female   45  \n",
      "9           kfrankcombe9@slate.com    Male  old  \n",
      "10             pdomotora@github.io    Male    6  \n",
      "11     llansdowneb@theguardian.com  Female   16  \n",
      "12                 mkeblec@cmu.edu  Female   91  \n",
      "13           sbovisd@webeden.co.uk  Female   22  \n",
      "14             ewacee@marriott.com  Female   16  \n",
      "15             ewacee@marriott.com  Female   16  \n",
      "16         tsherburnf@facebook.com    Male    2  \n",
      "17                             NaN     NaN  NaN  \n",
      "18              cskillerng@nih.gov    Male  -78  \n",
      "19  maddicotth@acquirethisname.com    Male   65  \n",
      "20                             NaN  Female   45  \n",
      "21                mshawlj@dmoz.org    Male   72  \n",
      "22                             NaN     NaN  NaN  \n"
     ]
    }
   ],
   "source": [
    "import numpy\n",
    "import pandas\n",
    "\n",
    "columnNames = [\"ID\", \"Full Name\", \"First Name\", \"Last Name\", \"E-Mail\", \"Gender\", \"Age\"]\n",
    "dataFrame = pandas.read_csv(filepath_or_buffer=\n",
    "                            'https://raw.githubusercontent.com/edlich/eternalrepo/master/DS-WAHLFACH/dsm-beuth-edl-demodata-dirty.csv', \n",
    "                            sep = ',', names = columnNames, dtype=object)\n",
    "dataFrame = dataFrame.drop(0)\n",
    "dataFrame = dataFrame.reset_index(drop=True)\n",
    "\n",
    "#General information\n",
    "print(\"Rows count: {0}\".format(dataFrame.shape[0]))\n",
    "print(\"Columns count: {0}\".format(dataFrame.shape[1]))\n",
    "print(dataFrame)"
   ]
  },
  {
   "cell_type": "markdown",
   "metadata": {},
   "source": [
    "## Dropping all empty rows"
   ]
  },
  {
   "cell_type": "code",
   "execution_count": 398,
   "metadata": {},
   "outputs": [],
   "source": [
    "dataFrame = dataFrame.dropna(axis=0, how='all')\n"
   ]
  },
  {
   "cell_type": "markdown",
   "metadata": {},
   "source": [
    "## Removing duplicates"
   ]
  },
  {
   "cell_type": "code",
   "execution_count": 399,
   "metadata": {},
   "outputs": [],
   "source": [
    "columnsExceptFirst = columnNames.copy()\n",
    "columnsExceptFirst.pop(0)\n",
    "dataFrame = dataFrame.drop_duplicates(keep='first', subset=columnsExceptFirst)"
   ]
  },
  {
   "cell_type": "markdown",
   "metadata": {},
   "source": [
    "## Validating Age\n",
    "\n",
    "Bei Personen unter 12 ist es unwahrscheinlich, dass sie über eine Mailadresse verfügen. Nicht vorhandene Daten zum Alter und Altersangeben unter 12 werden darum auf das Durchschnittsalter gesetzt. "
   ]
  },
  {
   "cell_type": "code",
   "execution_count": 400,
   "metadata": {},
   "outputs": [],
   "source": [
    "ageColumn = dataFrame[columnNames[6]]\n",
    "ageColumn = pandas.to_numeric(arg = ageColumn, errors = \"coerce\", downcast = 'integer')\n",
    "validRows = ageColumn.where(ageColumn > 12, other=numpy.NaN)\n",
    "validRows = validRows.loc[validRows != numpy.NaN]\n",
    "mean = numpy.around(validRows.mean())\n",
    "ageColumn = ageColumn.fillna(mean)\n",
    "ageColumn = ageColumn.map(lambda age: numpy.absolute(age))\n",
    "ageColumn = ageColumn.map(lambda age: age if age > 12 else mean)\n",
    "dataFrame[columnNames[6]] = ageColumn.astype('int32')"
   ]
  },
  {
   "cell_type": "markdown",
   "metadata": {},
   "source": [
    "## Removing Full Name\n",
    "\n",
    "Die Spalte \"Full Name\" ist überflüssig und kann entfernt werden."
   ]
  },
  {
   "cell_type": "code",
   "execution_count": 401,
   "metadata": {},
   "outputs": [],
   "source": [
    "columnName = columnNames[1]\n",
    "dataFrame = dataFrame.drop(columns = [columnName])"
   ]
  },
  {
   "cell_type": "markdown",
   "metadata": {},
   "source": [
    "## Filling Missing Gender\n",
    "\n",
    "Leere \"Gender\"-Felder werden mit \"No Information\" gefüllt."
   ]
  },
  {
   "cell_type": "code",
   "execution_count": 402,
   "metadata": {},
   "outputs": [],
   "source": [
    "genderColumn = dataFrame[columnNames[5]]\n",
    "genderColumn = genderColumn.fillna(\"No Information\")\n",
    "dataFrame[columnNames[5]] = genderColumn"
   ]
  },
  {
   "cell_type": "markdown",
   "metadata": {},
   "source": [
    "## Removing Entries with missing Mail\n",
    "\n",
    "Einträge ohne E-Mail Feld werden gelöscht, da dieses Feld von großer Bedeutung ist und nicht konstruiert werden kann"
   ]
  },
  {
   "cell_type": "code",
   "execution_count": 403,
   "metadata": {},
   "outputs": [],
   "source": [
    "dataFrame = dataFrame.dropna(how='any', subset = [columnNames[4]])"
   ]
  },
  {
   "cell_type": "markdown",
   "metadata": {},
   "source": [
    "## Set missing IDs"
   ]
  },
  {
   "cell_type": "code",
   "execution_count": 404,
   "metadata": {},
   "outputs": [],
   "source": [
    "def replaceNaN():\n",
    "    if iDColumn.isna().sum() <= 0:\n",
    "        return\n",
    "    index = iDColumn.argmax()\n",
    "    iD = iDColumn.iloc[index]\n",
    "    notNaSeries = iDColumn.notna()\n",
    "    indexOfNaN = iDColumn.index[iDColumn.apply(numpy.isnan)][0]\n",
    "    iDColumn[indexOfNaN] = iD+1\n",
    "    replaceNaN()\n",
    "\n",
    "iDColumn = pandas.to_numeric(dataFrame[columnNames[0]], downcast='integer')\n",
    "replaceNaN()\n",
    "dataFrame[columnNames[0]] = iDColumn.astype('int32')"
   ]
  },
  {
   "cell_type": "code",
   "execution_count": 405,
   "metadata": {},
   "outputs": [
    {
     "name": "stdout",
     "output_type": "stream",
     "text": [
      "    ID  First Name    Last Name                          E-Mail  \\\n",
      "0    1      Mariel     Finnigan             mfinnigan0@usda.gov   \n",
      "1    2      Kenyon       Possek               kpossek1@ucoz.com   \n",
      "2    3        Lalo    Manifould             lmanifould2@pbs.org   \n",
      "3    4     Nickola       Carous               ncarous3@phoca.cz   \n",
      "4    5      Norman       Dubbin          ndubbin4@wikipedia.org   \n",
      "5    6       Hasty       Perdue                 hperdue5@qq.com   \n",
      "6    7       Franz     Castello             fcastello6@1688.com   \n",
      "7    8       Jorge       Tarney                 jtarney7@ft.com   \n",
      "8    9      Eunice  Blakebrough          eblakebrough8@sohu.com   \n",
      "9   10  Kristopher   Frankcombe          kfrankcombe9@slate.com   \n",
      "10  11        Palm      Domotor             pdomotora@github.io   \n",
      "11  12         Luz    Lansdowne     llansdowneb@theguardian.com   \n",
      "12  13    Modestia        Keble                 mkeblec@cmu.edu   \n",
      "13  14      Stacee        Bovis           sbovisd@webeden.co.uk   \n",
      "14  15        Eden         Wace             ewacee@marriott.com   \n",
      "15  17      Tobias     Sherburn         tsherburnf@facebook.com   \n",
      "16  19       Clair     Skillern              cskillerng@nih.gov   \n",
      "17  20      Mathew     Addicott  maddicotth@acquirethisname.com   \n",
      "18  21     Maurits        Shawl                mshawlj@dmoz.org   \n",
      "\n",
      "            Gender  Age  \n",
      "0           Female   60  \n",
      "1             Male   47  \n",
      "2             Male   26  \n",
      "3             Male   47  \n",
      "4             Male   17  \n",
      "5   No Information   77  \n",
      "6             Male   25  \n",
      "7             Male   77  \n",
      "8           Female   45  \n",
      "9             Male   47  \n",
      "10            Male   47  \n",
      "11          Female   16  \n",
      "12          Female   91  \n",
      "13          Female   22  \n",
      "14          Female   16  \n",
      "15            Male   47  \n",
      "16            Male   78  \n",
      "17            Male   65  \n",
      "18            Male   72  \n"
     ]
    }
   ],
   "source": [
    "dataFrame = dataFrame.reset_index(drop=True)\n",
    "print(dataFrame)"
   ]
  },
  {
   "cell_type": "code",
   "execution_count": null,
   "metadata": {},
   "outputs": [],
   "source": []
  }
 ],
 "metadata": {
  "kernelspec": {
   "display_name": "Python 3",
   "language": "python",
   "name": "python3"
  },
  "language_info": {
   "codemirror_mode": {
    "name": "ipython",
    "version": 3
   },
   "file_extension": ".py",
   "mimetype": "text/x-python",
   "name": "python",
   "nbconvert_exporter": "python",
   "pygments_lexer": "ipython3",
   "version": "3.7.6"
  }
 },
 "nbformat": 4,
 "nbformat_minor": 4
}
