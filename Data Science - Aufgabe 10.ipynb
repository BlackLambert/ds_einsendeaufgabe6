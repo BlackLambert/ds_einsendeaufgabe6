{
 "cells": [
  {
   "cell_type": "markdown",
   "metadata": {},
   "source": [
    "# Data Science - Aufgabe 10 \n",
    "\n",
    "## KNN Implementation\n",
    "\n",
    "### Aufgabenstellung\n",
    "Implement KNN by hand for just 2 dimensions with normalization.\n",
    "\n",
    "This is easy because:\n",
    "\n",
    "* funct: You normalize your data in another table\n",
    "* funct: You code a simple euclid distance function\n",
    "* funct: You take a point and calculate the distance to all points\n",
    "* funct: You take the list from above and sort it\n",
    "* funct: You aggregate by target variable\n",
    "* funct: you take the max to determine the target class \n",
    "\n",
    "you are finished!\n",
    "Note: This is the only chance to implement a machine learning algorithm by hand and hence learn something from the ground up!\n",
    "\n",
    "### Impementierung\n",
    "\n",
    "#### Szenario\n",
    "Es liegen Daten zu 10 unterschiedlichen Lebensmittlen vor. Die erste Spalte stellte die Menge an Zucker in Gramm dar. Die zweite Spalte gibt die Menge an Süßstoffen (außer Zucker) in Milligramm an. Um einen Vergleichswert zu haben, gibt die dritte Spalte das Gesamtgewicht an. Die vierte Spalte klassifiziert das Lebensmittel als \"Süßspeise\" bzw. als \"keine Süßspeise\".\n",
    "\n",
    "#### Datensatz"
   ]
  },
  {
   "cell_type": "code",
   "execution_count": 133,
   "metadata": {},
   "outputs": [
    {
     "name": "stderr",
     "output_type": "stream",
     "text": [
      "\u001b[32m\u001b[1m  Resolving\u001b[22m\u001b[39m package versions...\n",
      "\u001b[32m\u001b[1m   Updating\u001b[22m\u001b[39m `C:\\Users\\sebas\\.julia\\environments\\v1.4\\Project.toml`\n",
      "\u001b[90m [no changes]\u001b[39m\n",
      "\u001b[32m\u001b[1m   Updating\u001b[22m\u001b[39m `C:\\Users\\sebas\\.julia\\environments\\v1.4\\Manifest.toml`\n",
      "\u001b[90m [no changes]\u001b[39m\n"
     ]
    }
   ],
   "source": [
    "using Pkg\n",
    "Pkg.add(\"DataFrames\")\n",
    "using DataFrames"
   ]
  },
  {
   "cell_type": "code",
   "execution_count": 134,
   "metadata": {},
   "outputs": [
    {
     "name": "stdout",
     "output_type": "stream",
     "text": [
      "10×4 DataFrame\n",
      "│ Row │ suggar (g) │ sweetener (mg) │ weight (g) │ dessert │\n",
      "│     │ \u001b[90mInt64\u001b[39m      │ \u001b[90mInt64\u001b[39m          │ \u001b[90mInt64\u001b[39m      │ \u001b[90mBool\u001b[39m    │\n",
      "├─────┼────────────┼────────────────┼────────────┼─────────┤\n",
      "│ 1   │ 20         │ 0              │ 800        │ 0       │\n",
      "│ 2   │ 200        │ 0              │ 3000       │ 0       │\n",
      "│ 3   │ 0          │ 0              │ 500        │ 0       │\n",
      "│ 4   │ 10         │ 3              │ 1000       │ 0       │\n",
      "│ 5   │ 0          │ 2              │ 700        │ 0       │\n",
      "│ 6   │ 500        │ 0              │ 1200       │ 1       │\n",
      "│ 7   │ 0          │ 35             │ 650        │ 1       │\n",
      "│ 8   │ 200        │ 5              │ 2500       │ 1       │\n",
      "│ 9   │ 75         │ 22             │ 1350       │ 1       │\n",
      "│ 10  │ 350        │ 0              │ 800        │ 1       │\n"
     ]
    }
   ],
   "source": [
    "column_names = [\"suggar (g)\", \"sweetener (mg)\", \"weight (g)\", \"dessert\"]\n",
    "frame = DataFrame(column_names[1] => [20, 200, 0, 10, 0, 500, 0, 200, 75, 350], \n",
    "     column_names[2] => [0, 0, 0, 3, 2, 0, 35, 5, 22, 0], \n",
    "     column_names[3] => [800, 3000, 500, 1000, 700, 1200, 650, 2500, 1350, 800], \n",
    "     column_names[4] => [false, false, false, false, false, true, true, true, true, true])\n",
    "println(frame)"
   ]
  },
  {
   "cell_type": "markdown",
   "metadata": {},
   "source": [
    "#### Aufgabe \n",
    "Mit Hilfe des KNN Algorithmus soll untersucht werden, ob es sich bei dem Dateneintrag \\[50, 20, 1800\\] um eine Süßspeise handelt oder nicht.\n",
    "\n",
    "#### Lösung\n",
    "\n",
    "##### Features generieren\n",
    "Zu Beginn werden die Gewichtsdaten von Zucker und Süßstoff durch das Gesamtgewicht der Speise geteilt, damit nur noch zwei relevante Features übrig bleiben. "
   ]
  },
  {
   "cell_type": "code",
   "execution_count": 135,
   "metadata": {},
   "outputs": [
    {
     "name": "stdout",
     "output_type": "stream",
     "text": [
      "10×3 DataFrame\n",
      "│ Row │ suggar prop │ sweetener prop │ is dessert │\n",
      "│     │ \u001b[90mFloat64\u001b[39m     │ \u001b[90mFloat64\u001b[39m        │ \u001b[90mBool\u001b[39m       │\n",
      "├─────┼─────────────┼────────────────┼────────────┤\n",
      "│ 1   │ 0.025       │ 0.0            │ 0          │\n",
      "│ 2   │ 0.0666667   │ 0.0            │ 0          │\n",
      "│ 3   │ 0.0         │ 0.0            │ 0          │\n",
      "│ 4   │ 0.01        │ 3.0e-6         │ 0          │\n",
      "│ 5   │ 0.0         │ 2.85714e-6     │ 0          │\n",
      "│ 6   │ 0.416667    │ 0.0            │ 1          │\n",
      "│ 7   │ 0.0         │ 5.38462e-5     │ 1          │\n",
      "│ 8   │ 0.08        │ 2.0e-6         │ 1          │\n",
      "│ 9   │ 0.0555556   │ 1.62963e-5     │ 1          │\n",
      "│ 10  │ 0.4375      │ 0.0            │ 1          │\n"
     ]
    }
   ],
   "source": [
    "feature_column_names = [\"suggar prop\", \"sweetener prop\", \"is dessert\", \"distance\"]\n",
    "\n",
    "feature_frame = DataFrame()\n",
    "suggar_proportions = Float64[]\n",
    "for row in eachrow(frame[:,[1,3]])\n",
    "    suggar = row[1]\n",
    "    weight = row[2]\n",
    "    push!(suggar_proportions, suggar/weight)\n",
    "end\n",
    "feature_frame[!, feature_column_names[1]] = suggar_proportions\n",
    "\n",
    "sweetener_proportions = Float64[]\n",
    "for row in eachrow(frame[:,[2,3]])\n",
    "    sweetener = row[1]\n",
    "    weight = row[2]\n",
    "    push!(sweetener_proportions, (sweetener/1000)/weight) #Hier beachten, dass die Süßstoff Einträge in Milligramm angegeben sind.\n",
    "end\n",
    "feature_frame[!, feature_column_names[2]] = sweetener_proportions\n",
    "feature_frame[!, feature_column_names[3]] = copy(frame[!, column_names[4]])\n",
    "\n",
    "println(feature_frame)"
   ]
  },
  {
   "cell_type": "markdown",
   "metadata": {},
   "source": [
    "##### Spalten normalisieren\n",
    "Wenige Milligramm Süßstoff entsprechen einige Gramm Zucker. Somit können diese Spalten nicht direkt miteinander verglichen werden. Darum werden die Spalten für den KNN Algorithmus normalisiert.\n",
    "Zuvor wird der zu testende Datensatz der Tabelle hinzugefügt, damit dieser ebenfalls normalisiert wird"
   ]
  },
  {
   "cell_type": "code",
   "execution_count": 136,
   "metadata": {},
   "outputs": [
    {
     "name": "stdout",
     "output_type": "stream",
     "text": [
      "11×3 DataFrame\n",
      "│ Row │ suggar prop │ sweetener prop │ is dessert │\n",
      "│     │ \u001b[90mFloat64\u001b[39m     │ \u001b[90mFloat64\u001b[39m        │ \u001b[90mBool\u001b[39m       │\n",
      "├─────┼─────────────┼────────────────┼────────────┤\n",
      "│ 1   │ 0.0571429   │ 0.0            │ 0          │\n",
      "│ 2   │ 0.152381    │ 0.0            │ 0          │\n",
      "│ 3   │ 0.0         │ 0.0            │ 0          │\n",
      "│ 4   │ 0.0228571   │ 0.0557143      │ 0          │\n",
      "│ 5   │ 0.0         │ 0.0530612      │ 0          │\n",
      "│ 6   │ 0.952381    │ 0.0            │ 1          │\n",
      "│ 7   │ 0.0         │ 1.0            │ 1          │\n",
      "│ 8   │ 0.182857    │ 0.0371429      │ 1          │\n",
      "│ 9   │ 0.126984    │ 0.302646       │ 1          │\n",
      "│ 10  │ 1.0         │ 0.0            │ 1          │\n",
      "│ 11  │ 0.0634921   │ 0.206349       │ 0          │\n"
     ]
    }
   ],
   "source": [
    "function normalize!(frame)\n",
    "    for column in eachcol(frame)\n",
    "        sorted_column = sort(column)\n",
    "        min = sorted_column[1]\n",
    "        max = sorted_column[end]\n",
    "        delta = max - min;\n",
    "        for row in eachrow(column)\n",
    "            value = row[1]\n",
    "            row[1] = (value - min) / delta\n",
    "        end\n",
    "    end\n",
    "end\n",
    "\n",
    "normalized_feature_frame = copy(feature_frame)\n",
    "push!(normalized_feature_frame, [50/1800, 20/(1800*1000), false])\n",
    "normalize!(normalized_feature_frame[!, [1,2]])\n",
    "println(normalized_feature_frame)"
   ]
  },
  {
   "cell_type": "markdown",
   "metadata": {},
   "source": [
    "##### Distanz berechnen\n",
    "Nun wird für den KNN Algorithmus eine Distanz Funktion implementiert. Dieser berechnet die Distanz zwischen zwei Vektoren. Es wird beispielhaft die Distanz zwischen zwei Zeilen des \"feature_frame\" berechnet.\n",
    "\n",
    "Für den Testeintrag wird die Distanz zu jedem der Trainigsdaten berechnet. Anschließend wird die Tabelle nach der Distanz sortiert."
   ]
  },
  {
   "cell_type": "code",
   "execution_count": 137,
   "metadata": {},
   "outputs": [
    {
     "name": "stdout",
     "output_type": "stream",
     "text": [
      "[0.01, 3.0e-6]\n",
      "[0.05555555555555555, 1.6296296296296297e-5]\n",
      "0.045555557495949965\n"
     ]
    }
   ],
   "source": [
    "function calc_distance(toVector, fromVector)::Float64\n",
    "    if(length(toVector) != length(fromVector))\n",
    "        throw(ArgumentError(\"The arrays have to be of the same length\"))\n",
    "    end\n",
    "    sum = 0\n",
    "    for i in 1:length(toVector)\n",
    "        sum += (toVector[i]-fromVector[i])^2\n",
    "    end\n",
    "    return sqrt(sum)\n",
    "end\n",
    "\n",
    "from = feature_frame[4, :]\n",
    "to = feature_frame[9, :]\n",
    "from = [from[feature_column_names[1]], from[feature_column_names[2]]]\n",
    "to = [to[feature_column_names[1]], to[feature_column_names[2]]]\n",
    "println(from)\n",
    "println(to)\n",
    "println(calc_distance(from, to))"
   ]
  },
  {
   "cell_type": "code",
   "execution_count": 138,
   "metadata": {},
   "outputs": [
    {
     "name": "stdout",
     "output_type": "stream",
     "text": [
      "1×3 DataFrame\n",
      "│ Row │ suggar prop │ sweetener prop │ is dessert │\n",
      "│     │ \u001b[90mFloat64\u001b[39m     │ \u001b[90mFloat64\u001b[39m        │ \u001b[90mBool\u001b[39m       │\n",
      "├─────┼─────────────┼────────────────┼────────────┤\n",
      "│ 1   │ 0.0634921   │ 0.206349       │ 0          │\n",
      "10×5 DataFrame\n",
      "│ Row │ suggar prop │ sweetener prop │ is dessert │ distance │ Index │\n",
      "│     │ \u001b[90mFloat64\u001b[39m     │ \u001b[90mFloat64\u001b[39m        │ \u001b[90mBool\u001b[39m       │ \u001b[90mFloat64\u001b[39m  │ \u001b[90mInt64\u001b[39m │\n",
      "├─────┼─────────────┼────────────────┼────────────┼──────────┼───────┤\n",
      "│ 1   │ 0.126984    │ 0.302646       │ 1          │ 0.115344 │ 9     │\n",
      "│ 2   │ 0.0228571   │ 0.0557143      │ 0          │ 0.156019 │ 4     │\n",
      "│ 3   │ 0.0         │ 0.0530612      │ 0          │ 0.165917 │ 5     │\n",
      "│ 4   │ 0.0571429   │ 0.0            │ 0          │ 0.206447 │ 1     │\n",
      "│ 5   │ 0.182857    │ 0.0371429      │ 1          │ 0.207072 │ 8     │\n",
      "│ 6   │ 0.0         │ 0.0            │ 0          │ 0.215896 │ 3     │\n",
      "│ 7   │ 0.152381    │ 0.0            │ 0          │ 0.22468  │ 2     │\n",
      "│ 8   │ 0.0         │ 1.0            │ 1          │ 0.796186 │ 7     │\n",
      "│ 9   │ 0.952381    │ 0.0            │ 1          │ 0.912526 │ 6     │\n",
      "│ 10  │ 1.0         │ 0.0            │ 1          │ 0.958972 │ 10    │\n"
     ]
    }
   ],
   "source": [
    "distances = Float64[]\n",
    "index = Int64[]\n",
    "normalized_test_data = last(normalized_feature_frame, 1)\n",
    "normalized_feature_frame_other = first(normalized_feature_frame, nrow(normalized_feature_frame)-1)\n",
    "distances_frame = copy(normalized_feature_frame_other)\n",
    "\n",
    "suggar = normalized_test_data[!,feature_column_names[1]][1]\n",
    "sweetener = normalized_test_data[!,feature_column_names[2]][1]\n",
    "to = [suggar,sweetener]\n",
    "\n",
    "i = 1\n",
    "for row in eachrow(normalized_feature_frame_other)\n",
    "    suggar = row[feature_column_names[1]]\n",
    "    sweetener = row[feature_column_names[2]]\n",
    "    from = [suggar, sweetener]\n",
    "    push!(distances, calc_distance(from, to))\n",
    "    push!(index, i)\n",
    "    i += 1\n",
    "end\n",
    "\n",
    "distances_frame[!, feature_column_names[4]] = distances\n",
    "distances_frame[!, \"Index\"] = index\n",
    "distances_frame_sorted = sort(distances_frame, feature_column_names[4])\n",
    "println(normalized_test_data)\n",
    "println(distances_frame_sorted)"
   ]
  },
  {
   "cell_type": "markdown",
   "metadata": {},
   "source": [
    "##### Voting\n",
    "Nun wird abgestimmt, ob die Testdaten zu einer Süßspeise gehören oder nicht. Dazu werden die obersten k Elemente der sortierten Liste betrachtet und die Klassifizierungen gezählt. Das Test-Datenset wird der Klasse zugeordnet, die am meisten 'Votes' hat. "
   ]
  },
  {
   "cell_type": "code",
   "execution_count": 139,
   "metadata": {},
   "outputs": [
    {
     "name": "stdout",
     "output_type": "stream",
     "text": [
      "1\n",
      "The test data is not of a dessert\n"
     ]
    }
   ],
   "source": [
    "k = 3\n",
    "true_count = 0\n",
    "first_k_entries = first(distances_frame_sorted, k)\n",
    "for entry in eachrow(first_k_entries)\n",
    "    if(entry[feature_column_names[3]])\n",
    "        true_count += 1\n",
    "    end\n",
    "end\n",
    "\n",
    "println(true_count)\n",
    "if (true_count > k/2)\n",
    "    println(\"The test data is of a dessert\")\n",
    "else \n",
    "    println(\"The test data is not of a dessert\")\n",
    "end"
   ]
  },
  {
   "cell_type": "markdown",
   "metadata": {},
   "source": [
    "#### Resultat\n",
    "Der Eintrag mit der kleinsten Distanz gehört zu einer Süßspeise. Dennoch klassifiziert der KNN-Algorithmus die Testdaten als \"nicht Süßseise\", da die folgenden beiden Einträge zu keiner Süßspeise gehören. Je nachdem wie k definiert wurd erhält man ein anderes Ergebnis. Bei einer geringen Datenmenge von 10 Zeilen, erscheint mir k = 3 gut gewält zu sein."
   ]
  }
 ],
 "metadata": {
  "kernelspec": {
   "display_name": "Julia 1.4.2",
   "language": "julia",
   "name": "julia-1.4"
  },
  "language_info": {
   "file_extension": ".jl",
   "mimetype": "application/julia",
   "name": "julia",
   "version": "1.4.2"
  }
 },
 "nbformat": 4,
 "nbformat_minor": 4
}
